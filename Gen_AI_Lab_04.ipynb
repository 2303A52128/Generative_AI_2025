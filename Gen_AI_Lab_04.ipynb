{
  "nbformat": 4,
  "nbformat_minor": 0,
  "metadata": {
    "colab": {
      "provenance": [],
      "include_colab_link": true
    },
    "kernelspec": {
      "name": "python3",
      "display_name": "Python 3"
    },
    "language_info": {
      "name": "python"
    }
  },
  "cells": [
    {
      "cell_type": "markdown",
      "metadata": {
        "id": "view-in-github",
        "colab_type": "text"
      },
      "source": [
        "<a href=\"https://colab.research.google.com/github/2303A52128/Generative_AI_2025/blob/main/Gen_AI_Lab_04.ipynb\" target=\"_parent\"><img src=\"https://colab.research.google.com/assets/colab-badge.svg\" alt=\"Open In Colab\"/></a>"
      ]
    },
    {
      "cell_type": "markdown",
      "source": [
        "Problem-1"
      ],
      "metadata": {
        "id": "9HpN9VslwRxM"
      }
    },
    {
      "cell_type": "code",
      "execution_count": null,
      "metadata": {
        "colab": {
          "base_uri": "https://localhost:8080/"
        },
        "id": "YeEVW0aSBa9F",
        "outputId": "7c6e2f77-de0f-487d-9e89-eb4ce3f2c351"
      },
      "outputs": [
        {
          "output_type": "stream",
          "name": "stdout",
          "text": [
            "Trained weights: [0.08775068 0.3705362  0.15220469]\n",
            "Trained bias: 0.0036682251319441147\n"
          ]
        }
      ],
      "source": [
        "import numpy as np\n",
        "X_train = np.array([[0.1, 0.2, 0.3],\n",
        "                    [0.2, 0.3, 0.4],\n",
        "                    [0.3, 0.4, 0.5],\n",
        "                    [0.5, 0.6, 0.7],\n",
        "                    [0.1, 0.3, 0.5],\n",
        "                    [0.2, 0.4, 0.6],\n",
        "                    [0.3, 0.5, 0.7],\n",
        "                    [0.4, 0.6, 0.8],\n",
        "                    [0.5, 0.7, 0.1]])\n",
        "y_train = np.array([0.14, 0.20, 0.26, 0.38, 0.22, 0.28, 0.34, 0.40, 0.22])\n",
        "weights = np.random.rand(3)\n",
        "bias = np.random.rand()\n",
        "learning_rate = 0.01\n",
        "iterations = 1000\n",
        "def linear_activation(x):\n",
        "    return x\n",
        "def mean_square_error(y_true, y_pred):\n",
        "    return np.mean((y_true - y_pred) ** 2)\n",
        "for _ in range(iterations):\n",
        "    # Forward pass\n",
        "    y_pred = linear_activation(np.dot(X_train, weights) + bias)\n",
        "\n",
        "    # Calculate error\n",
        "    error = y_train - y_pred\n",
        "\n",
        "    # Backward pass (calculate gradients)\n",
        "    d_weights = -2 * np.dot(X_train.T, error) / len(X_train)\n",
        "    d_bias = -2 * np.mean(error)\n",
        "\n",
        "    # Update weights and bias\n",
        "    weights -= learning_rate * d_weights\n",
        "    bias -= learning_rate * d_bias\n",
        "\n",
        "print(f\"Trained weights: {weights}\")\n",
        "print(f\"Trained bias: {bias}\")\n"
      ]
    },
    {
      "cell_type": "code",
      "source": [
        "# Testing data from Table 2\n",
        "X_test = np.array([[0.6, 0.7, 0.8],\n",
        "                   [0.7, 0.8, 0.9]])\n",
        "y_test = np.array([0.44, 0.50])\n",
        "\n",
        "# Calculate Mean Square Error for training data\n",
        "y_train_pred = linear_activation(np.dot(X_train, weights) + bias)\n",
        "mse_train = mean_square_error(y_train, y_train_pred)\n",
        "\n",
        "# Calculate Mean Square Error for testing data\n",
        "y_test_pred = linear_activation(np.dot(X_test, weights) + bias)\n",
        "mse_test = mean_square_error(y_test, y_test_pred)\n",
        "\n",
        "print(f\"MSE Train: {mse_train}\")\n",
        "print(f\"MSE test: {mse_test}\")\n"
      ],
      "metadata": {
        "colab": {
          "base_uri": "https://localhost:8080/"
        },
        "id": "uIrcPvcVBqgv",
        "outputId": "93460ac0-8f55-4040-ec03-aa1fd29bdb53"
      },
      "execution_count": null,
      "outputs": [
        {
          "output_type": "stream",
          "name": "stdout",
          "text": [
            "MSE Train: 0.0013323347752863248\n",
            "MSE test: 4.346287740520835e-06\n"
          ]
        }
      ]
    },
    {
      "cell_type": "code",
      "source": [
        "\n",
        "def predict(x):\n",
        "    return linear_activation(np.dot(x, weights) + bias)\n",
        "\n",
        "# Read input data from the user\n",
        "x1 = float(input(\"Enter value for x1: \"))\n",
        "x2 = float(input(\"Enter value for x2: \"))\n",
        "x3 = float(input(\"Enter value for x3: \"))\n",
        "\n",
        "# Predict output using the trained model\n",
        "new_input = np.array([x1, x2, x3])\n",
        "predicted_output = predict(new_input)\n",
        "\n",
        "print(f\"Predicted output: {predicted_output}\")\n"
      ],
      "metadata": {
        "id": "VZJTUc_7B3SA"
      },
      "execution_count": null,
      "outputs": []
    },
    {
      "cell_type": "markdown",
      "source": [
        "Problem-2"
      ],
      "metadata": {
        "id": "sxyM4mldCd0u"
      }
    },
    {
      "cell_type": "code",
      "source": [
        "import numpy as np\n",
        "def sigmoid(x):\n",
        "    return 1 / (1 + np.exp(-x))\n",
        "def sigmoid_derivative(x):\n",
        "    return x * (1 - x)\n",
        "X_train = np.array([[0.1, 0.2, 0.3],\n",
        "                    [0.2, 0.3, 0.4],\n",
        "                    [0.3, 0.4, 0.5],\n",
        "                    [0.5, 0.6, 0.7],\n",
        "                    [0.1, 0.3, 0.5],\n",
        "                    [0.2, 0.4, 0.6],\n",
        "                    [0.3, 0.5, 0.7],\n",
        "                    [0.4, 0.6, 0.8],\n",
        "                    [0.5, 0.7, 0.1]])\n",
        "\n",
        "y_train = np.array([[0.5349],\n",
        "                    [0.5498],\n",
        "                    [0.5646],\n",
        "                    [0.5939],\n",
        "                    [0.5548],\n",
        "                    [0.5695],\n",
        "                    [0.5842],\n",
        "                    [0.5987],\n",
        "                    [0.5548]])\n",
        "weights = np.random.rand(3, 1)\n",
        "bias = np.random.rand(1)\n",
        "learning_rate = 0.01\n",
        "iterations = 1000\n",
        "\n",
        "for _ in range(iterations):\n",
        "    # Forward pass\n",
        "    z = np.dot(X_train, weights) + bias\n",
        "    y_pred = sigmoid(z)\n",
        "\n",
        "    # Calculate error\n",
        "    error = y_train - y_pred\n",
        "\n",
        "    # Backward pass (calculate gradients)\n",
        "    d_weights = np.dot(X_train.T, error * sigmoid_derivative(y_pred))\n",
        "    d_bias = np.sum(error * sigmoid_derivative(y_pred))\n",
        "\n",
        "    # Update weights and bias\n",
        "    weights += learning_rate * d_weights\n",
        "    bias += learning_rate * d_bias\n",
        "\n",
        "print(f\"Trained weights: {weights}\")\n",
        "print(f\"Trained bias: {bias}\")\n"
      ],
      "metadata": {
        "id": "oXIbSQY_CfLi"
      },
      "execution_count": null,
      "outputs": []
    },
    {
      "cell_type": "code",
      "source": [
        "\n",
        "X_test = np.array([[0.6, 0.7, 0.8],\n",
        "                   [0.7, 0.8, 0.9]])\n",
        "\n",
        "y_test = np.array([[0.6083],\n",
        "                   [0.6225]])\n",
        "def mean_square_error(y_true, y_pred):\n",
        "    return np.mean((y_true - y_pred) ** 2)\n",
        "y_train_pred = sigmoid(np.dot(X_train, weights) + bias)\n",
        "mse_train = mean_square_error(y_train, y_train_pred)\n",
        "y_test_pred = sigmoid(np.dot(X_test, weights) + bias)\n",
        "mse_test = mean_square_error(y_test, y_test_pred)\n",
        "\n",
        "print(f\"MSE Training Data: {mse_train}\")\n",
        "print(f\"MSE for Testing Data: {mse_test}\")\n"
      ],
      "metadata": {
        "id": "VP4751raCtom"
      },
      "execution_count": null,
      "outputs": []
    },
    {
      "cell_type": "code",
      "source": [
        "\n",
        "def predict(x):\n",
        "    return sigmoid(np.dot(x, weights) + bias)\n",
        "\n",
        "# Read input data from the user\n",
        "x1 = float(input(\"Enter value for x1: \"))\n",
        "x2 = float(input(\"Enter value for x2: \"))\n",
        "x3 = float(input(\"Enter value for x3: \"))\n",
        "new_input = np.array([x1, x2, x3])\n",
        "predicted_output = predict(new_input)\n",
        "\n",
        "print(f\"Predicted output: {predicted_output}\")\n"
      ],
      "metadata": {
        "id": "fKBB-wacDBJM"
      },
      "execution_count": null,
      "outputs": []
    }
  ]
}